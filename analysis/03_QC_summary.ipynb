{
 "cells": [
  {
   "cell_type": "markdown",
   "id": "9bf1f302-46ab-4e97-adc2-9ee6143ff37d",
   "metadata": {},
   "source": [
    "# Imports"
   ]
  },
  {
   "cell_type": "code",
   "execution_count": 1,
   "id": "697cb64f-a56e-4efb-af04-2625ddd64e8d",
   "metadata": {},
   "outputs": [],
   "source": [
    "import anndata\n",
    "import os\n",
    "import scanpy as sc\n",
    "import numpy as np\n",
    "import pandas as pd\n",
    "import matplotlib\n",
    "import matplotlib.pyplot as plt\n",
    "import seaborn as sns\n",
    "import anndata\n",
    "import warnings\n",
    "import sys\n",
    "from mpl_toolkits.axes_grid1.axes_divider import make_axes_locatable\n",
    "from scipy.io import mmread\n",
    "from scipy.sparse import csr_matrix\n",
    "\n",
    "sys.path.insert(1, '/data/peer/lpaddock/projects/lkp-sc-tools')\n",
    "import lkpsctools.plotting\n",
    "\n",
    "%matplotlib inline"
   ]
  }
 ],
 "metadata": {
  "kernelspec": {
   "display_name": "Python [conda env:multiome_winner]",
   "language": "python",
   "name": "conda-env-multiome_winner-py"
  },
  "language_info": {
   "codemirror_mode": {
    "name": "ipython",
    "version": 3
   },
   "file_extension": ".py",
   "mimetype": "text/x-python",
   "name": "python",
   "nbconvert_exporter": "python",
   "pygments_lexer": "ipython3",
   "version": "3.8.17"
  }
 },
 "nbformat": 4,
 "nbformat_minor": 5
}
