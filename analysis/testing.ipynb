{
 "cells": [
  {
   "cell_type": "code",
   "execution_count": 1,
   "id": "e3199cd5-794c-4037-b685-764fab441073",
   "metadata": {},
   "outputs": [],
   "source": [
    "import argparse\n",
    "import scanpy as sc\n",
    "import numpy as np\n",
    "import pandas as pd\n",
    "import matplotlib.pyplot as plt\n",
    "import scipy\n",
    "import seaborn as sns\n",
    "import os\n",
    "import anndata\n",
    "from scipy.io import mmread"
   ]
  },
  {
   "cell_type": "code",
   "execution_count": 2,
   "id": "8b19e84a-3f7b-42ba-b1bd-0083067d4806",
   "metadata": {},
   "outputs": [],
   "source": [
    "def load_anndata(mtx_dir):\n",
    "    # load in mtx, barcodes and features\n",
    "    matrix_path = os.path.join(mtx_dir, 'matrix.mtx.gz')\n",
    "    matrix = mmread(matrix_path).tocsr()\n",
    "    barcodes_path = os.path.join(mtx_dir, 'barcodes.tsv.gz')\n",
    "    barcodes = pd.read_csv(barcodes_path,sep='\\t',compression='gzip',header=0,\n",
    "                          names = ['barcodes'])\n",
    "    features_path = os.path.join(mtx_dir, 'features.tsv.gz')\n",
    "    features = pd.read_csv(features_path, sep='\\t',compression='gzip',header=0, \n",
    "                           names=['ensemblID','name', 'feature_type', 'chr', 'start', 'end'])\n",
    "    \n",
    "    # select gene features\n",
    "    gene_features = np.where('feature_type' == 'Gene Expression')[0]\n",
    "    \n",
    "    # generate anndata\n",
    "    var = features.iloc[gene_features]\n",
    "    var.index = var['name']\n",
    "    obs = barcodes\n",
    "    obs.index = obs['barcodes']\n",
    "    rna_adata = anndata.AnnData(matrix[:,gene_features],\n",
    "                    var = var,\n",
    "                    obs = obs)\n",
    "\n",
    "    return rna_adata"
   ]
  },
  {
   "cell_type": "code",
   "execution_count": 3,
   "id": "d4c638e8-6d98-42eb-b029-93c9ca443205",
   "metadata": {},
   "outputs": [],
   "source": [
    "mtx_dir = '../data/Sample_BCG_h1/raw_feature_bc_matrix'"
   ]
  },
  {
   "cell_type": "code",
   "execution_count": 4,
   "id": "b5a5479c-35e5-4757-8edb-2a656a867fef",
   "metadata": {},
   "outputs": [],
   "source": [
    "matrix_path = os.path.join(mtx_dir, 'matrix.mtx.gz')\n",
    "matrix = mmread(matrix_path).tocsr()\n",
    "barcodes_path = os.path.join(mtx_dir, 'barcodes.tsv.gz')\n",
    "barcodes = pd.read_csv(barcodes_path,sep='\\t',compression='gzip',header=None,\n",
    "                      names = ['og_barcode'])\n",
    "features_path = os.path.join(mtx_dir, 'features.tsv.gz')\n",
    "features = pd.read_csv(features_path, sep='\\t',compression='gzip',header=None, \n",
    "                       names=['ensemblID','name', 'feature_type', 'chr', 'start', 'end'])"
   ]
  },
  {
   "cell_type": "code",
   "execution_count": 38,
   "id": "9ebfc30e-9a80-4936-a6f5-263877969c66",
   "metadata": {},
   "outputs": [],
   "source": [
    "barcodes = pd.read_csv(barcodes_path,sep='\\t',compression='gzip',header=None,\n",
    "                      names = ['og_barcode'])"
   ]
  },
  {
   "cell_type": "code",
   "execution_count": 39,
   "id": "cc8781fa-513b-4ec0-977f-5077d1c477ce",
   "metadata": {},
   "outputs": [],
   "source": [
    "features = pd.read_csv(features_path, sep='\\t',compression='gzip',header=None, \n",
    "                       names=['ensemblID','name', 'feature_type', 'chr', 'start', 'end'])"
   ]
  },
  {
   "cell_type": "code",
   "execution_count": 40,
   "id": "085e92ea-2431-4ac8-9ec0-5b607df8876b",
   "metadata": {},
   "outputs": [
    {
     "data": {
      "text/plain": [
       "(693857, 1)"
      ]
     },
     "execution_count": 40,
     "metadata": {},
     "output_type": "execute_result"
    }
   ],
   "source": [
    "barcodes.shape"
   ]
  },
  {
   "cell_type": "code",
   "execution_count": 41,
   "id": "641001c8-446e-4d10-bda6-d3d80d1cb0f8",
   "metadata": {},
   "outputs": [
    {
     "data": {
      "text/plain": [
       "(122348, 6)"
      ]
     },
     "execution_count": 41,
     "metadata": {},
     "output_type": "execute_result"
    }
   ],
   "source": [
    "features.shape"
   ]
  },
  {
   "cell_type": "code",
   "execution_count": 42,
   "id": "9fcc9c3c-20a8-4902-8585-a4fad907ea9a",
   "metadata": {},
   "outputs": [
    {
     "data": {
      "text/plain": [
       "(122348, 693857)"
      ]
     },
     "execution_count": 42,
     "metadata": {},
     "output_type": "execute_result"
    }
   ],
   "source": [
    "matrix.shape"
   ]
  },
  {
   "cell_type": "code",
   "execution_count": 35,
   "id": "fa3daa43-3a92-4806-904d-221234db3619",
   "metadata": {},
   "outputs": [],
   "source": [
    "gene_features = np.where(features['feature_type'] == 'Gene Expression')[0]"
   ]
  },
  {
   "cell_type": "code",
   "execution_count": 62,
   "id": "ba9c6564-3a49-46a9-b3bf-ba5948ae5918",
   "metadata": {},
   "outputs": [
    {
     "name": "stderr",
     "output_type": "stream",
     "text": [
      "/home/paddockl/miniconda3/envs/multiome_winner/lib/python3.8/site-packages/anndata/_core/anndata.py:1832: UserWarning: Variable names are not unique. To make them unique, call `.var_names_make_unique`.\n",
      "  utils.warn_names_duplicates(\"var\")\n"
     ]
    }
   ],
   "source": [
    "var = features.iloc[gene_features]\n",
    "var.index = var['name'].tolist()\n",
    "obs = barcodes\n",
    "obs.index = obs['og_barcode'].tolist()\n",
    "rna_adata = anndata.AnnData(matrix[gene_features,:].T,\n",
    "                var = var,\n",
    "                obs = obs)"
   ]
  },
  {
   "cell_type": "code",
   "execution_count": 45,
   "id": "c068cc62-9be4-4636-8e52-fd67b538b60b",
   "metadata": {},
   "outputs": [
    {
     "data": {
      "text/plain": [
       "AnnData object with n_obs × n_vars = 693857 × 36601\n",
       "    obs: 'og_barcode'\n",
       "    var: 'ensemblID', 'name', 'feature_type', 'chr', 'start', 'end'"
      ]
     },
     "execution_count": 45,
     "metadata": {},
     "output_type": "execute_result"
    }
   ],
   "source": [
    "rna_adata"
   ]
  },
  {
   "cell_type": "code",
   "execution_count": 48,
   "id": "e181f5d2-8e1f-4f96-a583-e68e1bf8c237",
   "metadata": {},
   "outputs": [
    {
     "data": {
      "text/html": [
       "<div>\n",
       "<style scoped>\n",
       "    .dataframe tbody tr th:only-of-type {\n",
       "        vertical-align: middle;\n",
       "    }\n",
       "\n",
       "    .dataframe tbody tr th {\n",
       "        vertical-align: top;\n",
       "    }\n",
       "\n",
       "    .dataframe thead th {\n",
       "        text-align: right;\n",
       "    }\n",
       "</style>\n",
       "<table border=\"1\" class=\"dataframe\">\n",
       "  <thead>\n",
       "    <tr style=\"text-align: right;\">\n",
       "      <th></th>\n",
       "      <th>ensemblID</th>\n",
       "      <th>name</th>\n",
       "      <th>feature_type</th>\n",
       "      <th>chr</th>\n",
       "      <th>start</th>\n",
       "      <th>end</th>\n",
       "    </tr>\n",
       "  </thead>\n",
       "  <tbody>\n",
       "    <tr>\n",
       "      <th>MIR1302-2HG</th>\n",
       "      <td>ENSG00000243485</td>\n",
       "      <td>MIR1302-2HG</td>\n",
       "      <td>Gene Expression</td>\n",
       "      <td>chr1</td>\n",
       "      <td>29553</td>\n",
       "      <td>30267</td>\n",
       "    </tr>\n",
       "    <tr>\n",
       "      <th>FAM138A</th>\n",
       "      <td>ENSG00000237613</td>\n",
       "      <td>FAM138A</td>\n",
       "      <td>Gene Expression</td>\n",
       "      <td>chr1</td>\n",
       "      <td>36080</td>\n",
       "      <td>36081</td>\n",
       "    </tr>\n",
       "    <tr>\n",
       "      <th>OR4F5</th>\n",
       "      <td>ENSG00000186092</td>\n",
       "      <td>OR4F5</td>\n",
       "      <td>Gene Expression</td>\n",
       "      <td>chr1</td>\n",
       "      <td>65418</td>\n",
       "      <td>69055</td>\n",
       "    </tr>\n",
       "    <tr>\n",
       "      <th>AL627309.1</th>\n",
       "      <td>ENSG00000238009</td>\n",
       "      <td>AL627309.1</td>\n",
       "      <td>Gene Expression</td>\n",
       "      <td>chr1</td>\n",
       "      <td>120931</td>\n",
       "      <td>133723</td>\n",
       "    </tr>\n",
       "    <tr>\n",
       "      <th>AL627309.3</th>\n",
       "      <td>ENSG00000239945</td>\n",
       "      <td>AL627309.3</td>\n",
       "      <td>Gene Expression</td>\n",
       "      <td>chr1</td>\n",
       "      <td>91104</td>\n",
       "      <td>91105</td>\n",
       "    </tr>\n",
       "    <tr>\n",
       "      <th>...</th>\n",
       "      <td>...</td>\n",
       "      <td>...</td>\n",
       "      <td>...</td>\n",
       "      <td>...</td>\n",
       "      <td>...</td>\n",
       "      <td>...</td>\n",
       "    </tr>\n",
       "    <tr>\n",
       "      <th>AC141272.1</th>\n",
       "      <td>ENSG00000277836</td>\n",
       "      <td>AC141272.1</td>\n",
       "      <td>Gene Expression</td>\n",
       "      <td>KI270728.1</td>\n",
       "      <td>1270983</td>\n",
       "      <td>1270984</td>\n",
       "    </tr>\n",
       "    <tr>\n",
       "      <th>AC023491.2</th>\n",
       "      <td>ENSG00000278633</td>\n",
       "      <td>AC023491.2</td>\n",
       "      <td>Gene Expression</td>\n",
       "      <td>KI270731.1</td>\n",
       "      <td>13000</td>\n",
       "      <td>13001</td>\n",
       "    </tr>\n",
       "    <tr>\n",
       "      <th>AC007325.1</th>\n",
       "      <td>ENSG00000276017</td>\n",
       "      <td>AC007325.1</td>\n",
       "      <td>Gene Expression</td>\n",
       "      <td>KI270734.1</td>\n",
       "      <td>72410</td>\n",
       "      <td>72411</td>\n",
       "    </tr>\n",
       "    <tr>\n",
       "      <th>AC007325.4</th>\n",
       "      <td>ENSG00000278817</td>\n",
       "      <td>AC007325.4</td>\n",
       "      <td>Gene Expression</td>\n",
       "      <td>KI270734.1</td>\n",
       "      <td>131493</td>\n",
       "      <td>131494</td>\n",
       "    </tr>\n",
       "    <tr>\n",
       "      <th>AC007325.2</th>\n",
       "      <td>ENSG00000277196</td>\n",
       "      <td>AC007325.2</td>\n",
       "      <td>Gene Expression</td>\n",
       "      <td>KI270734.1</td>\n",
       "      <td>161749</td>\n",
       "      <td>161852</td>\n",
       "    </tr>\n",
       "  </tbody>\n",
       "</table>\n",
       "<p>36601 rows × 6 columns</p>\n",
       "</div>"
      ],
      "text/plain": [
       "                   ensemblID         name     feature_type         chr  \\\n",
       "MIR1302-2HG  ENSG00000243485  MIR1302-2HG  Gene Expression        chr1   \n",
       "FAM138A      ENSG00000237613      FAM138A  Gene Expression        chr1   \n",
       "OR4F5        ENSG00000186092        OR4F5  Gene Expression        chr1   \n",
       "AL627309.1   ENSG00000238009   AL627309.1  Gene Expression        chr1   \n",
       "AL627309.3   ENSG00000239945   AL627309.3  Gene Expression        chr1   \n",
       "...                      ...          ...              ...         ...   \n",
       "AC141272.1   ENSG00000277836   AC141272.1  Gene Expression  KI270728.1   \n",
       "AC023491.2   ENSG00000278633   AC023491.2  Gene Expression  KI270731.1   \n",
       "AC007325.1   ENSG00000276017   AC007325.1  Gene Expression  KI270734.1   \n",
       "AC007325.4   ENSG00000278817   AC007325.4  Gene Expression  KI270734.1   \n",
       "AC007325.2   ENSG00000277196   AC007325.2  Gene Expression  KI270734.1   \n",
       "\n",
       "               start      end  \n",
       "MIR1302-2HG    29553    30267  \n",
       "FAM138A        36080    36081  \n",
       "OR4F5          65418    69055  \n",
       "AL627309.1    120931   133723  \n",
       "AL627309.3     91104    91105  \n",
       "...              ...      ...  \n",
       "AC141272.1   1270983  1270984  \n",
       "AC023491.2     13000    13001  \n",
       "AC007325.1     72410    72411  \n",
       "AC007325.4    131493   131494  \n",
       "AC007325.2    161749   161852  \n",
       "\n",
       "[36601 rows x 6 columns]"
      ]
     },
     "execution_count": 48,
     "metadata": {},
     "output_type": "execute_result"
    }
   ],
   "source": [
    "rna_adata.var"
   ]
  },
  {
   "cell_type": "code",
   "execution_count": 22,
   "id": "1258fa2f-fe0e-4f3d-b519-b601b161456e",
   "metadata": {},
   "outputs": [
    {
     "data": {
      "text/html": [
       "<div>\n",
       "<style scoped>\n",
       "    .dataframe tbody tr th:only-of-type {\n",
       "        vertical-align: middle;\n",
       "    }\n",
       "\n",
       "    .dataframe tbody tr th {\n",
       "        vertical-align: top;\n",
       "    }\n",
       "\n",
       "    .dataframe thead th {\n",
       "        text-align: right;\n",
       "    }\n",
       "</style>\n",
       "<table border=\"1\" class=\"dataframe\">\n",
       "  <thead>\n",
       "    <tr style=\"text-align: right;\">\n",
       "      <th></th>\n",
       "      <th>ensemblID</th>\n",
       "      <th>name</th>\n",
       "      <th>feature_type</th>\n",
       "      <th>chr</th>\n",
       "      <th>start</th>\n",
       "      <th>end</th>\n",
       "    </tr>\n",
       "  </thead>\n",
       "  <tbody>\n",
       "    <tr>\n",
       "      <th>FAM138A</th>\n",
       "      <td>ENSG00000237613</td>\n",
       "      <td>FAM138A</td>\n",
       "      <td>Gene Expression</td>\n",
       "      <td>chr1</td>\n",
       "      <td>36080</td>\n",
       "      <td>36081</td>\n",
       "    </tr>\n",
       "    <tr>\n",
       "      <th>OR4F5</th>\n",
       "      <td>ENSG00000186092</td>\n",
       "      <td>OR4F5</td>\n",
       "      <td>Gene Expression</td>\n",
       "      <td>chr1</td>\n",
       "      <td>65418</td>\n",
       "      <td>69055</td>\n",
       "    </tr>\n",
       "    <tr>\n",
       "      <th>AL627309.1</th>\n",
       "      <td>ENSG00000238009</td>\n",
       "      <td>AL627309.1</td>\n",
       "      <td>Gene Expression</td>\n",
       "      <td>chr1</td>\n",
       "      <td>120931</td>\n",
       "      <td>133723</td>\n",
       "    </tr>\n",
       "    <tr>\n",
       "      <th>AL627309.3</th>\n",
       "      <td>ENSG00000239945</td>\n",
       "      <td>AL627309.3</td>\n",
       "      <td>Gene Expression</td>\n",
       "      <td>chr1</td>\n",
       "      <td>91104</td>\n",
       "      <td>91105</td>\n",
       "    </tr>\n",
       "    <tr>\n",
       "      <th>AL627309.2</th>\n",
       "      <td>ENSG00000239906</td>\n",
       "      <td>AL627309.2</td>\n",
       "      <td>Gene Expression</td>\n",
       "      <td>chr1</td>\n",
       "      <td>140338</td>\n",
       "      <td>140339</td>\n",
       "    </tr>\n",
       "    <tr>\n",
       "      <th>...</th>\n",
       "      <td>...</td>\n",
       "      <td>...</td>\n",
       "      <td>...</td>\n",
       "      <td>...</td>\n",
       "      <td>...</td>\n",
       "      <td>...</td>\n",
       "    </tr>\n",
       "    <tr>\n",
       "      <th>AC141272.1</th>\n",
       "      <td>ENSG00000277836</td>\n",
       "      <td>AC141272.1</td>\n",
       "      <td>Gene Expression</td>\n",
       "      <td>KI270728.1</td>\n",
       "      <td>1270983</td>\n",
       "      <td>1270984</td>\n",
       "    </tr>\n",
       "    <tr>\n",
       "      <th>AC023491.2</th>\n",
       "      <td>ENSG00000278633</td>\n",
       "      <td>AC023491.2</td>\n",
       "      <td>Gene Expression</td>\n",
       "      <td>KI270731.1</td>\n",
       "      <td>13000</td>\n",
       "      <td>13001</td>\n",
       "    </tr>\n",
       "    <tr>\n",
       "      <th>AC007325.1</th>\n",
       "      <td>ENSG00000276017</td>\n",
       "      <td>AC007325.1</td>\n",
       "      <td>Gene Expression</td>\n",
       "      <td>KI270734.1</td>\n",
       "      <td>72410</td>\n",
       "      <td>72411</td>\n",
       "    </tr>\n",
       "    <tr>\n",
       "      <th>AC007325.4</th>\n",
       "      <td>ENSG00000278817</td>\n",
       "      <td>AC007325.4</td>\n",
       "      <td>Gene Expression</td>\n",
       "      <td>KI270734.1</td>\n",
       "      <td>131493</td>\n",
       "      <td>131494</td>\n",
       "    </tr>\n",
       "    <tr>\n",
       "      <th>AC007325.2</th>\n",
       "      <td>ENSG00000277196</td>\n",
       "      <td>AC007325.2</td>\n",
       "      <td>Gene Expression</td>\n",
       "      <td>KI270734.1</td>\n",
       "      <td>161749</td>\n",
       "      <td>161852</td>\n",
       "    </tr>\n",
       "  </tbody>\n",
       "</table>\n",
       "<p>36600 rows × 6 columns</p>\n",
       "</div>"
      ],
      "text/plain": [
       "                  ensemblID        name     feature_type         chr    start  \\\n",
       "FAM138A     ENSG00000237613     FAM138A  Gene Expression        chr1    36080   \n",
       "OR4F5       ENSG00000186092       OR4F5  Gene Expression        chr1    65418   \n",
       "AL627309.1  ENSG00000238009  AL627309.1  Gene Expression        chr1   120931   \n",
       "AL627309.3  ENSG00000239945  AL627309.3  Gene Expression        chr1    91104   \n",
       "AL627309.2  ENSG00000239906  AL627309.2  Gene Expression        chr1   140338   \n",
       "...                     ...         ...              ...         ...      ...   \n",
       "AC141272.1  ENSG00000277836  AC141272.1  Gene Expression  KI270728.1  1270983   \n",
       "AC023491.2  ENSG00000278633  AC023491.2  Gene Expression  KI270731.1    13000   \n",
       "AC007325.1  ENSG00000276017  AC007325.1  Gene Expression  KI270734.1    72410   \n",
       "AC007325.4  ENSG00000278817  AC007325.4  Gene Expression  KI270734.1   131493   \n",
       "AC007325.2  ENSG00000277196  AC007325.2  Gene Expression  KI270734.1   161749   \n",
       "\n",
       "                end  \n",
       "FAM138A       36081  \n",
       "OR4F5         69055  \n",
       "AL627309.1   133723  \n",
       "AL627309.3    91105  \n",
       "AL627309.2   140339  \n",
       "...             ...  \n",
       "AC141272.1  1270984  \n",
       "AC023491.2    13001  \n",
       "AC007325.1    72411  \n",
       "AC007325.4   131494  \n",
       "AC007325.2   161852  \n",
       "\n",
       "[36600 rows x 6 columns]"
      ]
     },
     "execution_count": 22,
     "metadata": {},
     "output_type": "execute_result"
    }
   ],
   "source": [
    "var"
   ]
  },
  {
   "cell_type": "code",
   "execution_count": 23,
   "id": "28a603d5-fb88-4178-8f9a-dcfc744e6240",
   "metadata": {},
   "outputs": [
    {
     "data": {
      "text/html": [
       "<div>\n",
       "<style scoped>\n",
       "    .dataframe tbody tr th:only-of-type {\n",
       "        vertical-align: middle;\n",
       "    }\n",
       "\n",
       "    .dataframe tbody tr th {\n",
       "        vertical-align: top;\n",
       "    }\n",
       "\n",
       "    .dataframe thead th {\n",
       "        text-align: right;\n",
       "    }\n",
       "</style>\n",
       "<table border=\"1\" class=\"dataframe\">\n",
       "  <thead>\n",
       "    <tr style=\"text-align: right;\">\n",
       "      <th></th>\n",
       "      <th>og_barcode</th>\n",
       "    </tr>\n",
       "  </thead>\n",
       "  <tbody>\n",
       "    <tr>\n",
       "      <th>0</th>\n",
       "      <td>AAACAGCCAAACATAG-1</td>\n",
       "    </tr>\n",
       "    <tr>\n",
       "      <th>1</th>\n",
       "      <td>AAACAGCCAAACCCTA-1</td>\n",
       "    </tr>\n",
       "    <tr>\n",
       "      <th>2</th>\n",
       "      <td>AAACAGCCAAACCTAT-1</td>\n",
       "    </tr>\n",
       "    <tr>\n",
       "      <th>3</th>\n",
       "      <td>AAACAGCCAAACCTTG-1</td>\n",
       "    </tr>\n",
       "    <tr>\n",
       "      <th>4</th>\n",
       "      <td>AAACAGCCAAACGCGA-1</td>\n",
       "    </tr>\n",
       "    <tr>\n",
       "      <th>...</th>\n",
       "      <td>...</td>\n",
       "    </tr>\n",
       "    <tr>\n",
       "      <th>693851</th>\n",
       "      <td>TTTGTTGGTTTGGGTA-1</td>\n",
       "    </tr>\n",
       "    <tr>\n",
       "      <th>693852</th>\n",
       "      <td>TTTGTTGGTTTGGTTC-1</td>\n",
       "    </tr>\n",
       "    <tr>\n",
       "      <th>693853</th>\n",
       "      <td>TTTGTTGGTTTGTCTA-1</td>\n",
       "    </tr>\n",
       "    <tr>\n",
       "      <th>693854</th>\n",
       "      <td>TTTGTTGGTTTGTGGA-1</td>\n",
       "    </tr>\n",
       "    <tr>\n",
       "      <th>693855</th>\n",
       "      <td>TTTGTTGGTTTGTTGC-1</td>\n",
       "    </tr>\n",
       "  </tbody>\n",
       "</table>\n",
       "<p>693856 rows × 1 columns</p>\n",
       "</div>"
      ],
      "text/plain": [
       "                og_barcode\n",
       "0       AAACAGCCAAACATAG-1\n",
       "1       AAACAGCCAAACCCTA-1\n",
       "2       AAACAGCCAAACCTAT-1\n",
       "3       AAACAGCCAAACCTTG-1\n",
       "4       AAACAGCCAAACGCGA-1\n",
       "...                    ...\n",
       "693851  TTTGTTGGTTTGGGTA-1\n",
       "693852  TTTGTTGGTTTGGTTC-1\n",
       "693853  TTTGTTGGTTTGTCTA-1\n",
       "693854  TTTGTTGGTTTGTGGA-1\n",
       "693855  TTTGTTGGTTTGTTGC-1\n",
       "\n",
       "[693856 rows x 1 columns]"
      ]
     },
     "execution_count": 23,
     "metadata": {},
     "output_type": "execute_result"
    }
   ],
   "source": [
    "obs"
   ]
  },
  {
   "cell_type": "code",
   "execution_count": 25,
   "id": "6cc54627-aa2d-43a3-a9a9-3905470b6fb5",
   "metadata": {},
   "outputs": [
    {
     "data": {
      "text/plain": [
       "<36600x693857 sparse matrix of type '<class 'numpy.int64'>'\n",
       "\twith 18470196 stored elements in Compressed Sparse Row format>"
      ]
     },
     "execution_count": 25,
     "metadata": {},
     "output_type": "execute_result"
    }
   ],
   "source": [
    "matrix[gene_features,:]"
   ]
  },
  {
   "cell_type": "code",
   "execution_count": 26,
   "id": "6b3d42af-1637-4f13-b95f-0e6882f6a203",
   "metadata": {},
   "outputs": [
    {
     "data": {
      "text/plain": [
       "<122348x693857 sparse matrix of type '<class 'numpy.int64'>'\n",
       "\twith 75641395 stored elements in Compressed Sparse Row format>"
      ]
     },
     "execution_count": 26,
     "metadata": {},
     "output_type": "execute_result"
    }
   ],
   "source": [
    "matrix"
   ]
  },
  {
   "cell_type": "code",
   "execution_count": 27,
   "id": "626c54b7-6ab7-4982-bccd-d7332a8f0db7",
   "metadata": {},
   "outputs": [
    {
     "data": {
      "text/plain": [
       "array([[0, 0, 0, 0, 0, 0, 0, 0, 0, 0],\n",
       "       [0, 0, 0, 0, 0, 0, 0, 0, 0, 0],\n",
       "       [0, 0, 0, 0, 0, 0, 0, 0, 0, 0],\n",
       "       [0, 0, 0, 0, 0, 0, 0, 0, 0, 0],\n",
       "       [0, 0, 0, 0, 0, 0, 0, 0, 0, 0],\n",
       "       [0, 0, 0, 0, 0, 0, 0, 0, 0, 0],\n",
       "       [0, 0, 0, 0, 0, 0, 0, 0, 0, 0],\n",
       "       [0, 0, 0, 0, 0, 0, 0, 0, 0, 0],\n",
       "       [0, 0, 0, 0, 0, 0, 0, 0, 0, 0],\n",
       "       [0, 0, 0, 0, 0, 0, 0, 0, 0, 0]])"
      ]
     },
     "execution_count": 27,
     "metadata": {},
     "output_type": "execute_result"
    }
   ],
   "source": [
    "matrix[:10,:10].toarray()"
   ]
  },
  {
   "cell_type": "code",
   "execution_count": 49,
   "id": "5cf20494-aab1-4544-bb47-385947b72354",
   "metadata": {},
   "outputs": [],
   "source": [
    "ad = sc.read_h5ad('../results/Sample_BCG_h3/pre_filt_rna_adata.h5ad')"
   ]
  },
  {
   "cell_type": "code",
   "execution_count": 50,
   "id": "4f624eaf-ae5e-4ffc-bfe2-41e5a87ce5aa",
   "metadata": {},
   "outputs": [
    {
     "data": {
      "text/plain": [
       "AnnData object with n_obs × n_vars = 716250 × 36601\n",
       "    obs: 'og_barcode', 'batch', 'n_genes_by_counts', 'log1p_n_genes_by_counts', 'total_counts', 'log1p_total_counts', 'pct_counts_in_top_50_genes', 'pct_counts_in_top_100_genes', 'pct_counts_in_top_200_genes', 'pct_counts_in_top_500_genes'\n",
       "    var: 'ensemblID', 'name', 'feature_type', 'chr', 'start', 'end', 'n_cells_by_counts', 'mean_counts', 'log1p_mean_counts', 'pct_dropout_by_counts', 'total_counts', 'log1p_total_counts'"
      ]
     },
     "execution_count": 50,
     "metadata": {},
     "output_type": "execute_result"
    }
   ],
   "source": [
    "ad"
   ]
  },
  {
   "cell_type": "code",
   "execution_count": 51,
   "id": "919b2ad4-9d2f-4318-8d94-25d7e111d85d",
   "metadata": {},
   "outputs": [
    {
     "data": {
      "text/plain": [
       "AnnData object with n_obs × n_vars = 693857 × 36601\n",
       "    obs: 'og_barcode'\n",
       "    var: 'ensemblID', 'name', 'feature_type', 'chr', 'start', 'end'"
      ]
     },
     "execution_count": 51,
     "metadata": {},
     "output_type": "execute_result"
    }
   ],
   "source": [
    "rna_adata"
   ]
  },
  {
   "cell_type": "code",
   "execution_count": 52,
   "id": "9b2cf817-22d2-4880-869e-5de37937eeb6",
   "metadata": {},
   "outputs": [],
   "source": [
    "RIBO_GENE_PATH = '/data/peer/lpaddock/data/utils/RB_genes_human'"
   ]
  },
  {
   "cell_type": "code",
   "execution_count": 63,
   "id": "ebe39755-03b1-4bbe-8dd3-aefecff424c3",
   "metadata": {},
   "outputs": [],
   "source": [
    "adata = rna_adata"
   ]
  },
  {
   "cell_type": "code",
   "execution_count": 73,
   "id": "16823a0f-0c26-43b8-b8e9-07880894727d",
   "metadata": {},
   "outputs": [
    {
     "name": "stderr",
     "output_type": "stream",
     "text": [
      "/home/paddockl/miniconda3/envs/multiome_winner/lib/python3.8/site-packages/anndata/_core/anndata.py:1832: UserWarning: Variable names are not unique. To make them unique, call `.var_names_make_unique`.\n",
      "  utils.warn_names_duplicates(\"var\")\n"
     ]
    }
   ],
   "source": [
    "var = features.iloc[gene_features]\n",
    "var.index = var['name'].tolist()\n",
    "obs = barcodes\n",
    "obs.index = obs['og_barcode'].tolist()\n",
    "rna_adata = anndata.AnnData(matrix[gene_features,:].T,\n",
    "                var = var,\n",
    "                obs = obs)"
   ]
  },
  {
   "cell_type": "code",
   "execution_count": 74,
   "id": "dffe1349-f1ee-4036-aecb-23dc3e42c10a",
   "metadata": {},
   "outputs": [],
   "source": [
    "# calculate qc metrics\n",
    "adata.var_names_make_unique()\n",
    "sc.pp.calculate_qc_metrics(adata, inplace = True)\n",
    "# ribo content\n",
    "ribo_genes = pd.read_csv(RIBO_GENE_PATH, header = None)[0].tolist()\n",
    "ribo_genes = adata.var_names[adata.var_names.isin(ribo_genes)]\n",
    "adata.var['ribo'] = adata.var_names.isin(ribo_genes)\n",
    "row_sum_adata_ribo = np.sum(adata[:, ribo_genes].X.toarray(), axis=1)\n",
    "adata.obs['ribo_pct'] = row_sum_adata_ribo / adata.obs['total_counts'] * 100\n",
    "# mito content\n",
    "mt_genes = adata.var_names[adata.var_names.str.startswith('MT-')]\n",
    "adata.var['mito'] = adata.var_names.isin(mt_genes)\n",
    "row_sum_adata_mito = np.sum(adata[:, mt_genes].X.toarray(), axis=1)\n",
    "adata.obs['mt_pct'] = row_sum_adata_mito / adata.obs['total_counts'] * 100\n"
   ]
  },
  {
   "cell_type": "code",
   "execution_count": 77,
   "id": "923ab715-cf33-4dd9-9fd6-ac35506057cd",
   "metadata": {},
   "outputs": [
    {
     "data": {
      "text/plain": [
       "array([False,  True])"
      ]
     },
     "execution_count": 77,
     "metadata": {},
     "output_type": "execute_result"
    }
   ],
   "source": [
    "adata.var['ribo'].unique()"
   ]
  },
  {
   "cell_type": "code",
   "execution_count": 58,
   "id": "95579beb-0fc7-402c-9bfa-4e6c1b68e2b9",
   "metadata": {},
   "outputs": [
    {
     "data": {
      "text/plain": [
       "True"
      ]
     },
     "execution_count": 58,
     "metadata": {},
     "output_type": "execute_result"
    }
   ],
   "source": [
    "any(adata.var_names.isin(ribo_genes))"
   ]
  },
  {
   "cell_type": "code",
   "execution_count": 59,
   "id": "e1b98541-bda0-4369-9841-5b4a8c49e7bf",
   "metadata": {},
   "outputs": [
    {
     "data": {
      "text/plain": [
       "Index(['MRPL20', 'RPL22', 'RPL11', 'MRPS15', 'RPS8', 'MRPL37', 'RPL5',\n",
       "       'MRPS21', 'MRPL9', 'RPS27',\n",
       "       ...\n",
       "       'RPL3', 'RPS19BP1', 'PRPS2', 'RPS4X', 'RPL36A', 'PRPS1', 'RPL39',\n",
       "       'RPL10', 'RPS4Y1', 'RPS4Y2'],\n",
       "      dtype='object', length=173)"
      ]
     },
     "execution_count": 59,
     "metadata": {},
     "output_type": "execute_result"
    }
   ],
   "source": [
    "adata.var_names[adata.var_names.isin(ribo_genes)]"
   ]
  },
  {
   "cell_type": "code",
   "execution_count": 4,
   "id": "e50ed8c7-9847-4a0e-a7e7-7fa68a0e4b5e",
   "metadata": {},
   "outputs": [],
   "source": [
    "adata = sc.read_h5ad('../results/Sample_BCG_h1/pre_filt_rna_adata.h5ad')"
   ]
  },
  {
   "cell_type": "code",
   "execution_count": 5,
   "id": "68fb66f4-4e10-4444-912f-c6e702510ceb",
   "metadata": {},
   "outputs": [
    {
     "data": {
      "text/plain": [
       "AnnData object with n_obs × n_vars = 693857 × 36601\n",
       "    obs: 'og_barcode', 'batch', 'n_genes_by_counts', 'log1p_n_genes_by_counts', 'total_counts', 'log1p_total_counts', 'pct_counts_in_top_50_genes', 'pct_counts_in_top_100_genes', 'pct_counts_in_top_200_genes', 'pct_counts_in_top_500_genes', 'ribo_pct', 'mito_pct'\n",
       "    var: 'ensemblID', 'name', 'feature_type', 'chr', 'start', 'end', 'n_cells_by_counts', 'mean_counts', 'log1p_mean_counts', 'pct_dropout_by_counts', 'total_counts', 'log1p_total_counts', 'ribo', 'mito'"
      ]
     },
     "execution_count": 5,
     "metadata": {},
     "output_type": "execute_result"
    }
   ],
   "source": [
    "adata"
   ]
  },
  {
   "cell_type": "code",
   "execution_count": 8,
   "id": "e52d0ef8-24f5-405c-9b81-299b5d617a71",
   "metadata": {},
   "outputs": [
    {
     "data": {
      "text/html": [
       "<div>\n",
       "<style scoped>\n",
       "    .dataframe tbody tr th:only-of-type {\n",
       "        vertical-align: middle;\n",
       "    }\n",
       "\n",
       "    .dataframe tbody tr th {\n",
       "        vertical-align: top;\n",
       "    }\n",
       "\n",
       "    .dataframe thead th {\n",
       "        text-align: right;\n",
       "    }\n",
       "</style>\n",
       "<table border=\"1\" class=\"dataframe\">\n",
       "  <thead>\n",
       "    <tr style=\"text-align: right;\">\n",
       "      <th></th>\n",
       "      <th>ensemblID</th>\n",
       "      <th>name</th>\n",
       "      <th>feature_type</th>\n",
       "      <th>chr</th>\n",
       "      <th>start</th>\n",
       "      <th>end</th>\n",
       "      <th>n_cells_by_counts</th>\n",
       "      <th>mean_counts</th>\n",
       "      <th>log1p_mean_counts</th>\n",
       "      <th>pct_dropout_by_counts</th>\n",
       "      <th>total_counts</th>\n",
       "      <th>log1p_total_counts</th>\n",
       "      <th>ribo</th>\n",
       "      <th>mito</th>\n",
       "    </tr>\n",
       "  </thead>\n",
       "  <tbody>\n",
       "    <tr>\n",
       "      <th>MIR1302-2HG</th>\n",
       "      <td>ENSG00000243485</td>\n",
       "      <td>MIR1302-2HG</td>\n",
       "      <td>Gene Expression</td>\n",
       "      <td>chr1</td>\n",
       "      <td>29553</td>\n",
       "      <td>30267</td>\n",
       "      <td>0</td>\n",
       "      <td>0.000000</td>\n",
       "      <td>0.000000</td>\n",
       "      <td>100.000000</td>\n",
       "      <td>0</td>\n",
       "      <td>0.000000</td>\n",
       "      <td>False</td>\n",
       "      <td>False</td>\n",
       "    </tr>\n",
       "    <tr>\n",
       "      <th>FAM138A</th>\n",
       "      <td>ENSG00000237613</td>\n",
       "      <td>FAM138A</td>\n",
       "      <td>Gene Expression</td>\n",
       "      <td>chr1</td>\n",
       "      <td>36080</td>\n",
       "      <td>36081</td>\n",
       "      <td>0</td>\n",
       "      <td>0.000000</td>\n",
       "      <td>0.000000</td>\n",
       "      <td>100.000000</td>\n",
       "      <td>0</td>\n",
       "      <td>0.000000</td>\n",
       "      <td>False</td>\n",
       "      <td>False</td>\n",
       "    </tr>\n",
       "    <tr>\n",
       "      <th>OR4F5</th>\n",
       "      <td>ENSG00000186092</td>\n",
       "      <td>OR4F5</td>\n",
       "      <td>Gene Expression</td>\n",
       "      <td>chr1</td>\n",
       "      <td>65418</td>\n",
       "      <td>69055</td>\n",
       "      <td>0</td>\n",
       "      <td>0.000000</td>\n",
       "      <td>0.000000</td>\n",
       "      <td>100.000000</td>\n",
       "      <td>0</td>\n",
       "      <td>0.000000</td>\n",
       "      <td>False</td>\n",
       "      <td>False</td>\n",
       "    </tr>\n",
       "    <tr>\n",
       "      <th>AL627309.1</th>\n",
       "      <td>ENSG00000238009</td>\n",
       "      <td>AL627309.1</td>\n",
       "      <td>Gene Expression</td>\n",
       "      <td>chr1</td>\n",
       "      <td>120931</td>\n",
       "      <td>133723</td>\n",
       "      <td>19</td>\n",
       "      <td>0.000027</td>\n",
       "      <td>0.000027</td>\n",
       "      <td>99.997262</td>\n",
       "      <td>19</td>\n",
       "      <td>2.995732</td>\n",
       "      <td>False</td>\n",
       "      <td>False</td>\n",
       "    </tr>\n",
       "    <tr>\n",
       "      <th>AL627309.3</th>\n",
       "      <td>ENSG00000239945</td>\n",
       "      <td>AL627309.3</td>\n",
       "      <td>Gene Expression</td>\n",
       "      <td>chr1</td>\n",
       "      <td>91104</td>\n",
       "      <td>91105</td>\n",
       "      <td>1</td>\n",
       "      <td>0.000001</td>\n",
       "      <td>0.000001</td>\n",
       "      <td>99.999856</td>\n",
       "      <td>1</td>\n",
       "      <td>0.693147</td>\n",
       "      <td>False</td>\n",
       "      <td>False</td>\n",
       "    </tr>\n",
       "    <tr>\n",
       "      <th>...</th>\n",
       "      <td>...</td>\n",
       "      <td>...</td>\n",
       "      <td>...</td>\n",
       "      <td>...</td>\n",
       "      <td>...</td>\n",
       "      <td>...</td>\n",
       "      <td>...</td>\n",
       "      <td>...</td>\n",
       "      <td>...</td>\n",
       "      <td>...</td>\n",
       "      <td>...</td>\n",
       "      <td>...</td>\n",
       "      <td>...</td>\n",
       "      <td>...</td>\n",
       "    </tr>\n",
       "    <tr>\n",
       "      <th>AC141272.1</th>\n",
       "      <td>ENSG00000277836</td>\n",
       "      <td>AC141272.1</td>\n",
       "      <td>Gene Expression</td>\n",
       "      <td>KI270728.1</td>\n",
       "      <td>1270983</td>\n",
       "      <td>1270984</td>\n",
       "      <td>0</td>\n",
       "      <td>0.000000</td>\n",
       "      <td>0.000000</td>\n",
       "      <td>100.000000</td>\n",
       "      <td>0</td>\n",
       "      <td>0.000000</td>\n",
       "      <td>False</td>\n",
       "      <td>False</td>\n",
       "    </tr>\n",
       "    <tr>\n",
       "      <th>AC023491.2</th>\n",
       "      <td>ENSG00000278633</td>\n",
       "      <td>AC023491.2</td>\n",
       "      <td>Gene Expression</td>\n",
       "      <td>KI270731.1</td>\n",
       "      <td>13000</td>\n",
       "      <td>13001</td>\n",
       "      <td>1</td>\n",
       "      <td>0.000001</td>\n",
       "      <td>0.000001</td>\n",
       "      <td>99.999856</td>\n",
       "      <td>1</td>\n",
       "      <td>0.693147</td>\n",
       "      <td>False</td>\n",
       "      <td>False</td>\n",
       "    </tr>\n",
       "    <tr>\n",
       "      <th>AC007325.1</th>\n",
       "      <td>ENSG00000276017</td>\n",
       "      <td>AC007325.1</td>\n",
       "      <td>Gene Expression</td>\n",
       "      <td>KI270734.1</td>\n",
       "      <td>72410</td>\n",
       "      <td>72411</td>\n",
       "      <td>0</td>\n",
       "      <td>0.000000</td>\n",
       "      <td>0.000000</td>\n",
       "      <td>100.000000</td>\n",
       "      <td>0</td>\n",
       "      <td>0.000000</td>\n",
       "      <td>False</td>\n",
       "      <td>False</td>\n",
       "    </tr>\n",
       "    <tr>\n",
       "      <th>AC007325.4</th>\n",
       "      <td>ENSG00000278817</td>\n",
       "      <td>AC007325.4</td>\n",
       "      <td>Gene Expression</td>\n",
       "      <td>KI270734.1</td>\n",
       "      <td>131493</td>\n",
       "      <td>131494</td>\n",
       "      <td>24</td>\n",
       "      <td>0.000035</td>\n",
       "      <td>0.000035</td>\n",
       "      <td>99.996541</td>\n",
       "      <td>24</td>\n",
       "      <td>3.218876</td>\n",
       "      <td>False</td>\n",
       "      <td>False</td>\n",
       "    </tr>\n",
       "    <tr>\n",
       "      <th>AC007325.2</th>\n",
       "      <td>ENSG00000277196</td>\n",
       "      <td>AC007325.2</td>\n",
       "      <td>Gene Expression</td>\n",
       "      <td>KI270734.1</td>\n",
       "      <td>161749</td>\n",
       "      <td>161852</td>\n",
       "      <td>1</td>\n",
       "      <td>0.000001</td>\n",
       "      <td>0.000001</td>\n",
       "      <td>99.999856</td>\n",
       "      <td>1</td>\n",
       "      <td>0.693147</td>\n",
       "      <td>False</td>\n",
       "      <td>False</td>\n",
       "    </tr>\n",
       "  </tbody>\n",
       "</table>\n",
       "<p>36601 rows × 14 columns</p>\n",
       "</div>"
      ],
      "text/plain": [
       "                   ensemblID         name     feature_type         chr  \\\n",
       "MIR1302-2HG  ENSG00000243485  MIR1302-2HG  Gene Expression        chr1   \n",
       "FAM138A      ENSG00000237613      FAM138A  Gene Expression        chr1   \n",
       "OR4F5        ENSG00000186092        OR4F5  Gene Expression        chr1   \n",
       "AL627309.1   ENSG00000238009   AL627309.1  Gene Expression        chr1   \n",
       "AL627309.3   ENSG00000239945   AL627309.3  Gene Expression        chr1   \n",
       "...                      ...          ...              ...         ...   \n",
       "AC141272.1   ENSG00000277836   AC141272.1  Gene Expression  KI270728.1   \n",
       "AC023491.2   ENSG00000278633   AC023491.2  Gene Expression  KI270731.1   \n",
       "AC007325.1   ENSG00000276017   AC007325.1  Gene Expression  KI270734.1   \n",
       "AC007325.4   ENSG00000278817   AC007325.4  Gene Expression  KI270734.1   \n",
       "AC007325.2   ENSG00000277196   AC007325.2  Gene Expression  KI270734.1   \n",
       "\n",
       "               start      end  n_cells_by_counts  mean_counts  \\\n",
       "MIR1302-2HG    29553    30267                  0     0.000000   \n",
       "FAM138A        36080    36081                  0     0.000000   \n",
       "OR4F5          65418    69055                  0     0.000000   \n",
       "AL627309.1    120931   133723                 19     0.000027   \n",
       "AL627309.3     91104    91105                  1     0.000001   \n",
       "...              ...      ...                ...          ...   \n",
       "AC141272.1   1270983  1270984                  0     0.000000   \n",
       "AC023491.2     13000    13001                  1     0.000001   \n",
       "AC007325.1     72410    72411                  0     0.000000   \n",
       "AC007325.4    131493   131494                 24     0.000035   \n",
       "AC007325.2    161749   161852                  1     0.000001   \n",
       "\n",
       "             log1p_mean_counts  pct_dropout_by_counts  total_counts  \\\n",
       "MIR1302-2HG           0.000000             100.000000             0   \n",
       "FAM138A               0.000000             100.000000             0   \n",
       "OR4F5                 0.000000             100.000000             0   \n",
       "AL627309.1            0.000027              99.997262            19   \n",
       "AL627309.3            0.000001              99.999856             1   \n",
       "...                        ...                    ...           ...   \n",
       "AC141272.1            0.000000             100.000000             0   \n",
       "AC023491.2            0.000001              99.999856             1   \n",
       "AC007325.1            0.000000             100.000000             0   \n",
       "AC007325.4            0.000035              99.996541            24   \n",
       "AC007325.2            0.000001              99.999856             1   \n",
       "\n",
       "             log1p_total_counts   ribo   mito  \n",
       "MIR1302-2HG            0.000000  False  False  \n",
       "FAM138A                0.000000  False  False  \n",
       "OR4F5                  0.000000  False  False  \n",
       "AL627309.1             2.995732  False  False  \n",
       "AL627309.3             0.693147  False  False  \n",
       "...                         ...    ...    ...  \n",
       "AC141272.1             0.000000  False  False  \n",
       "AC023491.2             0.693147  False  False  \n",
       "AC007325.1             0.000000  False  False  \n",
       "AC007325.4             3.218876  False  False  \n",
       "AC007325.2             0.693147  False  False  \n",
       "\n",
       "[36601 rows x 14 columns]"
      ]
     },
     "execution_count": 8,
     "metadata": {},
     "output_type": "execute_result"
    }
   ],
   "source": [
    "adata.var"
   ]
  },
  {
   "cell_type": "code",
   "execution_count": 2,
   "id": "076e7265-d9dd-409a-b9ba-678822c47441",
   "metadata": {},
   "outputs": [],
   "source": [
    "sample_dir = '/data/peer/lpaddock/repos/multiome_QC_preprocessing/data'\n",
    "outs_dir = '/data/peer/lpaddock/repos/multiome_QC_preprocessing/results'"
   ]
  },
  {
   "cell_type": "code",
   "execution_count": 3,
   "id": "5bea7fa0-bc17-45eb-a624-b87dd8b45e8c",
   "metadata": {},
   "outputs": [],
   "source": [
    "import utils"
   ]
  },
  {
   "cell_type": "code",
   "execution_count": 4,
   "id": "3e06511a-f5af-41c4-a3a2-ccdee912f4b8",
   "metadata": {},
   "outputs": [
    {
     "data": {
      "text/plain": [
       "<module 'utils' from '/lilac/data/peer/lpaddock/repos/multiome_QC_preprocessing/analysis/utils.py'>"
      ]
     },
     "execution_count": 4,
     "metadata": {},
     "output_type": "execute_result"
    }
   ],
   "source": [
    "import importlib\n",
    "importlib.reload(utils)"
   ]
  },
  {
   "cell_type": "code",
   "execution_count": 5,
   "id": "bf3122f3-bdb0-4276-8916-2a4afaaa83f8",
   "metadata": {},
   "outputs": [
    {
     "name": "stdout",
     "output_type": "stream",
     "text": [
      "Processing sample Sample_BCG_h2\n"
     ]
    },
    {
     "name": "stderr",
     "output_type": "stream",
     "text": [
      "/home/paddockl/miniconda3/envs/multiome_winner/lib/python3.8/site-packages/umap/distances.py:1063: NumbaDeprecationWarning: \u001b[1mThe 'nopython' keyword argument was not supplied to the 'numba.jit' decorator. The implicit default value for this argument is currently False, but it will be changed to True in Numba 0.59.0. See https://numba.readthedocs.io/en/stable/reference/deprecation.html#deprecation-of-object-mode-fall-back-behaviour-when-using-jit for details.\u001b[0m\n",
      "  @numba.jit()\n",
      "/home/paddockl/miniconda3/envs/multiome_winner/lib/python3.8/site-packages/umap/distances.py:1071: NumbaDeprecationWarning: \u001b[1mThe 'nopython' keyword argument was not supplied to the 'numba.jit' decorator. The implicit default value for this argument is currently False, but it will be changed to True in Numba 0.59.0. See https://numba.readthedocs.io/en/stable/reference/deprecation.html#deprecation-of-object-mode-fall-back-behaviour-when-using-jit for details.\u001b[0m\n",
      "  @numba.jit()\n",
      "/home/paddockl/miniconda3/envs/multiome_winner/lib/python3.8/site-packages/umap/distances.py:1086: NumbaDeprecationWarning: \u001b[1mThe 'nopython' keyword argument was not supplied to the 'numba.jit' decorator. The implicit default value for this argument is currently False, but it will be changed to True in Numba 0.59.0. See https://numba.readthedocs.io/en/stable/reference/deprecation.html#deprecation-of-object-mode-fall-back-behaviour-when-using-jit for details.\u001b[0m\n",
      "  @numba.jit()\n",
      "/home/paddockl/miniconda3/envs/multiome_winner/lib/python3.8/site-packages/umap/umap_.py:660: NumbaDeprecationWarning: \u001b[1mThe 'nopython' keyword argument was not supplied to the 'numba.jit' decorator. The implicit default value for this argument is currently False, but it will be changed to True in Numba 0.59.0. See https://numba.readthedocs.io/en/stable/reference/deprecation.html#deprecation-of-object-mode-fall-back-behaviour-when-using-jit for details.\u001b[0m\n",
      "  @numba.jit()\n"
     ]
    }
   ],
   "source": [
    "for sample_name in ['Sample_BCG_h2']:\n",
    "        sample_path = os.path.join(sample_dir, sample_name)\n",
    "        if os.path.isdir(sample_path):\n",
    "            print('Processing sample', sample_name)\n",
    "            \n",
    "            # get cellranger filtered barcodes\n",
    "            filt_bc_path = os.path.join(sample_path, \"filtered_feature_bc_matrix/barcodes.tsv.gz\")\n",
    "            cr_cells = pd.read_csv(filt_bc_path,sep='\\t',compression='gzip',header=None)[0].tolist()\n",
    "            cr_cells = [sample_name + '#' + x for x in cr_cells]\n",
    "            \n",
    "            # load filtered anndata\n",
    "            prefilt_ad_path = os.path.join(outs_dir, sample_name,'pre_filt_rna_adata.h5ad')\n",
    "            if os.path.exists(prefilt_ad_path):\n",
    "                prefilt_ad = sc.read_h5ad(prefilt_ad_path)\n",
    "                filt_ad = utils.subset_and_reprocess_rna(prefilt_ad,cr_cells)"
   ]
  },
  {
   "cell_type": "code",
   "execution_count": 6,
   "id": "a20aa529-7a54-4065-b376-adf17305e95d",
   "metadata": {},
   "outputs": [],
   "source": [
    "import doubletdetection\n",
    "import warnings"
   ]
  },
  {
   "cell_type": "code",
   "execution_count": 32,
   "id": "a9796eba-8ce9-4292-9cfc-069f7eea0814",
   "metadata": {},
   "outputs": [],
   "source": [
    "def run_doubletdetection(ad, sample_col = 'sample', layer = None):\n",
    "    ad.obs['doublet'] = np.nan\n",
    "    ad.obs['doublet_score'] = np.nan\n",
    "\n",
    "    # Calculate doublets on a per sample basis\n",
    "    doublet_sample_counts_d = {}\n",
    "    sample_names = ad.obs[sample_col].unique()\n",
    "    for sample in sample_names:\n",
    "        clf = doubletdetection.BoostClassifier()\n",
    "\n",
    "        sub_ad = ad[ad.obs[sample_col] == sample, :]\n",
    "        if layer == None:\n",
    "            counts = ad.X\n",
    "        else: counts = ad.layers[layer]\n",
    "\n",
    "        warnings.filterwarnings('ignore')\n",
    "        doublets = clf.fit(counts).predict(p_thresh=1e-7, voter_thresh=0.8)\n",
    "        doublet_score = clf.doublet_score()\n",
    "        warnings.filterwarnings('default')\n",
    "\n",
    "        # Store doublets in adata\n",
    "        ad.obs.loc[ad.obs[sample_col] == sample, 'doublet'] = doublets\n",
    "        ad.obs.loc[ad.obs[sample_col] == sample, 'doublet_score'] = doublet_score"
   ]
  },
  {
   "cell_type": "code",
   "execution_count": null,
   "id": "fefceab9-1d29-482a-9e8d-63782de47ba4",
   "metadata": {},
   "outputs": [
    {
     "data": {
      "application/vnd.jupyter.widget-view+json": {
       "model_id": "f04bad9fb6a640dfba4f65271583e45a",
       "version_major": 2,
       "version_minor": 0
      },
      "text/plain": [
       "  0%|          | 0/10 [00:00<?, ?it/s]"
      ]
     },
     "metadata": {},
     "output_type": "display_data"
    },
    {
     "name": "stderr",
     "output_type": "stream",
     "text": [
      "Process ForkPoolWorker-265:\n",
      "Process ForkPoolWorker-258:\n",
      "Process ForkPoolWorker-264:\n",
      "Exception ignored in: <function _releaseLock at 0x7fc3c893a8b0>\n",
      "Traceback (most recent call last):\n",
      "  File \"/home/paddockl/miniconda3/envs/multiome_winner/lib/python3.8/logging/__init__.py\", line 227, in _releaseLock\n",
      "    def _releaseLock():\n",
      "KeyboardInterrupt: \n",
      "Process ForkPoolWorker-263:\n",
      "Process ForkPoolWorker-257:\n",
      "Process ForkPoolWorker-262:\n",
      "Process ForkPoolWorker-259:\n",
      "Process ForkPoolWorker-260:\n",
      "Process ForkPoolWorker-261:\n",
      "Traceback (most recent call last):\n",
      "Traceback (most recent call last):\n",
      "Traceback (most recent call last):\n",
      "Traceback (most recent call last):\n",
      "Traceback (most recent call last):\n",
      "Traceback (most recent call last):\n",
      "Traceback (most recent call last):\n",
      "Traceback (most recent call last):\n",
      "  File \"/home/paddockl/miniconda3/envs/multiome_winner/lib/python3.8/multiprocessing/process.py\", line 315, in _bootstrap\n",
      "    self.run()\n",
      "  File \"/home/paddockl/miniconda3/envs/multiome_winner/lib/python3.8/multiprocessing/process.py\", line 315, in _bootstrap\n",
      "    self.run()\n",
      "  File \"/home/paddockl/miniconda3/envs/multiome_winner/lib/python3.8/multiprocessing/process.py\", line 315, in _bootstrap\n",
      "    self.run()\n",
      "Traceback (most recent call last):\n",
      "  File \"/home/paddockl/miniconda3/envs/multiome_winner/lib/python3.8/multiprocessing/process.py\", line 315, in _bootstrap\n",
      "    self.run()\n",
      "  File \"/home/paddockl/miniconda3/envs/multiome_winner/lib/python3.8/multiprocessing/process.py\", line 315, in _bootstrap\n",
      "    self.run()\n",
      "  File \"/home/paddockl/miniconda3/envs/multiome_winner/lib/python3.8/multiprocessing/process.py\", line 108, in run\n",
      "    self._target(*self._args, **self._kwargs)\n",
      "  File \"/home/paddockl/miniconda3/envs/multiome_winner/lib/python3.8/multiprocessing/process.py\", line 315, in _bootstrap\n",
      "    self.run()\n",
      "  File \"/home/paddockl/miniconda3/envs/multiome_winner/lib/python3.8/multiprocessing/process.py\", line 108, in run\n",
      "    self._target(*self._args, **self._kwargs)\n",
      "  File \"/home/paddockl/miniconda3/envs/multiome_winner/lib/python3.8/multiprocessing/process.py\", line 108, in run\n",
      "    self._target(*self._args, **self._kwargs)\n",
      "  File \"/home/paddockl/miniconda3/envs/multiome_winner/lib/python3.8/multiprocessing/process.py\", line 315, in _bootstrap\n",
      "    self.run()\n",
      "  File \"/home/paddockl/miniconda3/envs/multiome_winner/lib/python3.8/multiprocessing/pool.py\", line 114, in worker\n",
      "    task = get()\n",
      "  File \"/home/paddockl/miniconda3/envs/multiome_winner/lib/python3.8/multiprocessing/process.py\", line 315, in _bootstrap\n",
      "    self.run()\n",
      "  File \"/home/paddockl/miniconda3/envs/multiome_winner/lib/python3.8/multiprocessing/pool.py\", line 114, in worker\n",
      "    task = get()\n",
      "  File \"/home/paddockl/miniconda3/envs/multiome_winner/lib/python3.8/multiprocessing/process.py\", line 108, in run\n",
      "    self._target(*self._args, **self._kwargs)\n",
      "  File \"/home/paddockl/miniconda3/envs/multiome_winner/lib/python3.8/multiprocessing/pool.py\", line 114, in worker\n",
      "    task = get()\n",
      "  File \"/home/paddockl/miniconda3/envs/multiome_winner/lib/python3.8/multiprocessing/process.py\", line 108, in run\n",
      "    self._target(*self._args, **self._kwargs)\n",
      "  File \"/home/paddockl/miniconda3/envs/multiome_winner/lib/python3.8/multiprocessing/process.py\", line 108, in run\n",
      "    self._target(*self._args, **self._kwargs)\n",
      "  File \"/home/paddockl/miniconda3/envs/multiome_winner/lib/python3.8/multiprocessing/process.py\", line 108, in run\n",
      "    self._target(*self._args, **self._kwargs)\n",
      "  File \"/home/paddockl/miniconda3/envs/multiome_winner/lib/python3.8/multiprocessing/queues.py\", line 355, in get\n",
      "    with self._rlock:\n",
      "  File \"/home/paddockl/miniconda3/envs/multiome_winner/lib/python3.8/multiprocessing/pool.py\", line 114, in worker\n",
      "    task = get()\n",
      "  File \"/home/paddockl/miniconda3/envs/multiome_winner/lib/python3.8/multiprocessing/pool.py\", line 114, in worker\n",
      "    task = get()\n",
      "  File \"/home/paddockl/miniconda3/envs/multiome_winner/lib/python3.8/multiprocessing/process.py\", line 315, in _bootstrap\n",
      "    self.run()\n",
      "KeyboardInterrupt\n",
      "  File \"/home/paddockl/miniconda3/envs/multiome_winner/lib/python3.8/multiprocessing/process.py\", line 108, in run\n",
      "    self._target(*self._args, **self._kwargs)\n",
      "  File \"/home/paddockl/miniconda3/envs/multiome_winner/lib/python3.8/multiprocessing/queues.py\", line 355, in get\n",
      "    with self._rlock:\n",
      "  File \"/home/paddockl/miniconda3/envs/multiome_winner/lib/python3.8/multiprocessing/synchronize.py\", line 95, in __enter__\n",
      "    return self._semlock.__enter__()\n",
      "  File \"/home/paddockl/miniconda3/envs/multiome_winner/lib/python3.8/multiprocessing/pool.py\", line 114, in worker\n",
      "    task = get()\n",
      "  File \"/home/paddockl/miniconda3/envs/multiome_winner/lib/python3.8/multiprocessing/pool.py\", line 114, in worker\n",
      "    task = get()\n",
      "  File \"/home/paddockl/miniconda3/envs/multiome_winner/lib/python3.8/multiprocessing/queues.py\", line 355, in get\n",
      "    with self._rlock:\n",
      "  File \"/home/paddockl/miniconda3/envs/multiome_winner/lib/python3.8/multiprocessing/queues.py\", line 355, in get\n",
      "    with self._rlock:\n",
      "  File \"/home/paddockl/miniconda3/envs/multiome_winner/lib/python3.8/multiprocessing/pool.py\", line 114, in worker\n",
      "    task = get()\n",
      "  File \"/home/paddockl/miniconda3/envs/multiome_winner/lib/python3.8/multiprocessing/queues.py\", line 355, in get\n",
      "    with self._rlock:\n",
      "  File \"/home/paddockl/miniconda3/envs/multiome_winner/lib/python3.8/multiprocessing/queues.py\", line 355, in get\n",
      "    with self._rlock:\n",
      "  File \"/home/paddockl/miniconda3/envs/multiome_winner/lib/python3.8/multiprocessing/process.py\", line 108, in run\n",
      "    self._target(*self._args, **self._kwargs)\n",
      "  File \"/home/paddockl/miniconda3/envs/multiome_winner/lib/python3.8/multiprocessing/queues.py\", line 355, in get\n",
      "    with self._rlock:\n",
      "  File \"/home/paddockl/miniconda3/envs/multiome_winner/lib/python3.8/multiprocessing/synchronize.py\", line 95, in __enter__\n",
      "    return self._semlock.__enter__()\n",
      "  File \"/home/paddockl/miniconda3/envs/multiome_winner/lib/python3.8/multiprocessing/pool.py\", line 114, in worker\n",
      "    task = get()\n",
      "  File \"/home/paddockl/miniconda3/envs/multiome_winner/lib/python3.8/multiprocessing/synchronize.py\", line 95, in __enter__\n",
      "    return self._semlock.__enter__()\n",
      "  File \"/home/paddockl/miniconda3/envs/multiome_winner/lib/python3.8/multiprocessing/synchronize.py\", line 95, in __enter__\n",
      "    return self._semlock.__enter__()\n",
      "KeyboardInterrupt\n",
      "KeyboardInterrupt\n",
      "  File \"/home/paddockl/miniconda3/envs/multiome_winner/lib/python3.8/multiprocessing/synchronize.py\", line 95, in __enter__\n",
      "    return self._semlock.__enter__()\n",
      "  File \"/home/paddockl/miniconda3/envs/multiome_winner/lib/python3.8/multiprocessing/synchronize.py\", line 95, in __enter__\n",
      "    return self._semlock.__enter__()\n",
      "  File \"/home/paddockl/miniconda3/envs/multiome_winner/lib/python3.8/multiprocessing/synchronize.py\", line 95, in __enter__\n",
      "    return self._semlock.__enter__()\n",
      "  File \"/home/paddockl/miniconda3/envs/multiome_winner/lib/python3.8/multiprocessing/queues.py\", line 355, in get\n",
      "    with self._rlock:\n",
      "  File \"/home/paddockl/miniconda3/envs/multiome_winner/lib/python3.8/multiprocessing/queues.py\", line 356, in get\n",
      "    res = self._reader.recv_bytes()\n",
      "KeyboardInterrupt\n",
      "  File \"/home/paddockl/miniconda3/envs/multiome_winner/lib/python3.8/multiprocessing/connection.py\", line 216, in recv_bytes\n",
      "    buf = self._recv_bytes(maxlength)\n",
      "KeyboardInterrupt\n",
      "KeyboardInterrupt\n",
      "  File \"/home/paddockl/miniconda3/envs/multiome_winner/lib/python3.8/multiprocessing/connection.py\", line 414, in _recv_bytes\n",
      "    buf = self._recv(4)\n",
      "  File \"/home/paddockl/miniconda3/envs/multiome_winner/lib/python3.8/multiprocessing/connection.py\", line 379, in _recv\n",
      "    chunk = read(handle, remaining)\n",
      "KeyboardInterrupt\n",
      "KeyboardInterrupt\n",
      "  File \"/home/paddockl/miniconda3/envs/multiome_winner/lib/python3.8/multiprocessing/synchronize.py\", line 95, in __enter__\n",
      "    return self._semlock.__enter__()\n",
      "KeyboardInterrupt\n"
     ]
    }
   ],
   "source": [
    "run_doubletdetection(filt_ad, sample_col = 'batch', layer = 'raw_counts')"
   ]
  },
  {
   "cell_type": "code",
   "execution_count": null,
   "id": "599600e2-88f7-4332-99d0-3bd8aa5e237d",
   "metadata": {},
   "outputs": [],
   "source": [
    "filt_ad"
   ]
  },
  {
   "cell_type": "code",
   "execution_count": 26,
   "id": "43c15e88-3f02-484e-886c-dcb9e8734c86",
   "metadata": {},
   "outputs": [
    {
     "name": "stderr",
     "output_type": "stream",
     "text": [
      "/home/paddockl/miniconda3/envs/multiome_winner/lib/python3.8/site-packages/scanpy/plotting/_tools/scatterplots.py:392: UserWarning: No data for colormapping provided via 'c'. Parameters 'cmap' will be ignored\n",
      "  cax = scatter(\n"
     ]
    },
    {
     "data": {
      "image/png": "[encoded data removed]",
      "text/plain": [
       "<Figure size 640x480 with 1 Axes>"
      ]
     },
     "metadata": {},
     "output_type": "display_data"
    }
   ],
   "source": [
    "sc.pl.umap(filt_ad, color = 'batch')"
   ]
  },
  {
   "cell_type": "code",
   "execution_count": null,
   "id": "a5f8ccc1-f1d9-45c8-b512-0893f3504ef5",
   "metadata": {},
   "outputs": [],
   "source": []
  }
 ],
 "metadata": {
  "kernelspec": {
   "display_name": "Python [conda env:multiome_winner]",
   "language": "python",
   "name": "conda-env-multiome_winner-py"
  },
  "language_info": {
   "codemirror_mode": {
    "name": "ipython",
    "version": 3
   },
   "file_extension": ".py",
   "mimetype": "text/x-python",
   "name": "python",
   "nbconvert_exporter": "python",
   "pygments_lexer": "ipython3",
   "version": "3.8.17"
  }
 },
 "nbformat": 4,
 "nbformat_minor": 5
}
